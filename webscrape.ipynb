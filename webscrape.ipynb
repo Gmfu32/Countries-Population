{
 "cells": [
  {
   "cell_type": "markdown",
   "id": "229e43f2-a011-4a4b-86a5-aef6cfd79b2c",
   "metadata": {},
   "source": [
    "## Countries Population "
   ]
  },
  {
   "cell_type": "code",
   "execution_count": 11,
   "id": "6ff3ba00-7132-489c-8789-8dea687259b8",
   "metadata": {},
   "outputs": [],
   "source": [
    "# importing the needed libraries \n",
    "import sys\n",
    "import pandas as pd\n",
    "import requests\n",
    "from bs4 import BeautifulSoup # using beatuifulsoup to scrape"
   ]
  },
  {
   "cell_type": "markdown",
   "id": "7d4391e4-35be-4b40-80be-f3a7c83f27e9",
   "metadata": {},
   "source": [
    "## Web Scraping:"
   ]
  },
  {
   "cell_type": "code",
   "execution_count": 12,
   "id": "5a7953cd-74a1-419a-81e4-7d359340249b",
   "metadata": {
    "scrolled": true
   },
   "outputs": [],
   "source": [
    "# downloads and parses the HTML content of a Wikipedia page listing countries by population\n",
    "link = requests.get(\"https://en.wikipedia.org/wiki/List_of_countries_by_population_(United_Nations)\").text\n",
    "soup = BeautifulSoup(link, 'html.parser')\n",
    "# print(soup.prettify()) "
   ]
  },
  {
   "cell_type": "code",
   "execution_count": 13,
   "id": "c36fe671-8b79-42cb-92c0-62ba56dbb6e2",
   "metadata": {},
   "outputs": [],
   "source": [
    "# finding the first table from the page\n",
    "table = soup.find(\"table\")"
   ]
  },
  {
   "cell_type": "code",
   "execution_count": 14,
   "id": "7c5824f4-f7f5-468b-af19-9945757c44c7",
   "metadata": {},
   "outputs": [],
   "source": [
    "world_titles = soup.find_all('th')"
   ]
  },
  {
   "cell_type": "code",
   "execution_count": 15,
   "id": "22b33e02-72c2-47f6-8471-79b214ff841b",
   "metadata": {
    "collapsed": true,
    "jupyter": {
     "outputs_hidden": true
    },
    "scrolled": true
   },
   "outputs": [
    {
     "data": {
      "text/plain": [
       "[<th>Country or territory\n",
       " </th>,\n",
       " <th>Population<br/>(1 July 2022)\n",
       " </th>,\n",
       " <th>Population<br/>(1 July 2023)\n",
       " </th>,\n",
       " <th>Change<br/>(%)\n",
       " </th>,\n",
       " <th style=\"max-width:9em;\"><a href=\"/wiki/United_Nations_geoscheme\" title=\"United Nations geoscheme\">UN continental<br/>region</a><sup class=\"reference\" id=\"cite_ref-UNregions_1-1\"><a href=\"#cite_note-UNregions-1\"><span class=\"cite-bracket\">[</span>1<span class=\"cite-bracket\">]</span></a></sup>\n",
       " </th>,\n",
       " <th style=\"max-width:8em;\"><a href=\"/wiki/List_of_countries_and_territories_by_the_United_Nations_geoscheme\" title=\"List of countries and territories by the United Nations geoscheme\">UN statistical<br/>subregion</a><sup class=\"reference\" id=\"cite_ref-UNregions_1-2\"><a href=\"#cite_note-UNregions-1\"><span class=\"cite-bracket\">[</span>1<span class=\"cite-bracket\">]</span></a></sup>\n",
       " </th>,\n",
       " <th class=\"navbox-title\" colspan=\"2\" scope=\"col\"><link href=\"mw-data:TemplateStyles:r1129693374\" rel=\"mw-deduplicated-inline-style\"><style data-mw-deduplicate=\"TemplateStyles:r1239400231\">.mw-parser-output .navbar{display:inline;font-size:88%;font-weight:normal}.mw-parser-output .navbar-collapse{float:left;text-align:left}.mw-parser-output .navbar-boxtext{word-spacing:0}.mw-parser-output .navbar ul{display:inline-block;white-space:nowrap;line-height:inherit}.mw-parser-output .navbar-brackets::before{margin-right:-0.125em;content:\"[ \"}.mw-parser-output .navbar-brackets::after{margin-left:-0.125em;content:\" ]\"}.mw-parser-output .navbar li{word-spacing:-0.125em}.mw-parser-output .navbar a>span,.mw-parser-output .navbar a>abbr{text-decoration:inherit}.mw-parser-output .navbar-mini abbr{font-variant:small-caps;border-bottom:none;text-decoration:none;cursor:inherit}.mw-parser-output .navbar-ct-full{font-size:114%;margin:0 7em}.mw-parser-output .navbar-ct-mini{font-size:114%;margin:0 4em}html.skin-theme-clientpref-night .mw-parser-output .navbar li a abbr{color:var(--color-base)!important}@media(prefers-color-scheme:dark){html.skin-theme-clientpref-os .mw-parser-output .navbar li a abbr{color:var(--color-base)!important}}@media print{.mw-parser-output .navbar{display:none!important}}</style><div class=\"navbar plainlinks hlist navbar-mini\"><ul><li class=\"nv-view\"><a href=\"/wiki/Template:Lists_of_countries_by_population_statistics\" title=\"Template:Lists of countries by population statistics\"><abbr title=\"View this template\">v</abbr></a></li><li class=\"nv-talk\"><a href=\"/wiki/Template_talk:Lists_of_countries_by_population_statistics\" title=\"Template talk:Lists of countries by population statistics\"><abbr title=\"Discuss this template\">t</abbr></a></li><li class=\"nv-edit\"><a href=\"/wiki/Special:EditPage/Template:Lists_of_countries_by_population_statistics\" title=\"Special:EditPage/Template:Lists of countries by population statistics\"><abbr title=\"Edit this template\">e</abbr></a></li></ul></div><div id=\"Lists_of_countries_by_population_statistics600\" style=\"font-size:114%;margin:0 4em\"><a href=\"/wiki/Lists_of_sovereign_states_and_dependent_territories\" title=\"Lists of sovereign states and dependent territories\">Lists of countries</a> by <a href=\"/wiki/Demographic_statistics\" title=\"Demographic statistics\">population statistics</a></div></link></th>,\n",
       " <th class=\"navbox-group\" scope=\"row\" style=\"width:1%\"><a href=\"/wiki/World_population\" title=\"World population\">Global</a></th>,\n",
       " <th class=\"navbox-group\" scope=\"row\" style=\"width:1%\"><a href=\"/wiki/List_of_continents_and_continental_subregions_by_population\" title=\"List of continents and continental subregions by population\">Continents/subregions</a></th>,\n",
       " <th class=\"navbox-group\" scope=\"row\" style=\"width:1%\">Intercontinental</th>,\n",
       " <th class=\"navbox-group\" scope=\"row\" style=\"width:1%\">Cities/urban areas</th>,\n",
       " <th class=\"navbox-group\" scope=\"row\" style=\"width:1%\">Past and future</th>,\n",
       " <th class=\"navbox-group\" scope=\"row\" style=\"width:1%\"><a href=\"/wiki/Population_density\" title=\"Population density\">Population density</a></th>,\n",
       " <th class=\"navbox-group\" scope=\"row\" style=\"width:1%\">Growth indicators</th>,\n",
       " <th class=\"navbox-group\" scope=\"row\" style=\"width:1%\"><a href=\"/wiki/Life_expectancy\" title=\"Life expectancy\">Life expectancy</a></th>,\n",
       " <th class=\"navbox-group\" scope=\"row\" style=\"width:1%\">Other <a href=\"/wiki/Demography\" title=\"Demography\">demographics</a></th>,\n",
       " <th class=\"navbox-group\" scope=\"row\" style=\"width:1%\"><a href=\"/wiki/Health\" title=\"Health\">Health</a></th>,\n",
       " <th class=\"navbox-group\" scope=\"row\" style=\"width:1%\">Education and innovation</th>,\n",
       " <th class=\"navbox-group\" scope=\"row\" style=\"width:1%\"><a href=\"/wiki/Demographic_economics\" title=\"Demographic economics\">Economic</a></th>]"
      ]
     },
     "execution_count": 15,
     "metadata": {},
     "output_type": "execute_result"
    }
   ],
   "source": [
    "# gathering the table heading \n",
    "world_titles"
   ]
  },
  {
   "cell_type": "code",
   "execution_count": 16,
   "id": "3d23e5c4-060c-47d0-b5b3-aa40da4e5678",
   "metadata": {},
   "outputs": [
    {
     "name": "stdout",
     "output_type": "stream",
     "text": [
      "['Country or territory', 'Population(1 July 2022)', 'Population(1 July 2023)', 'Change(%)', 'UN continentalregion']\n"
     ]
    }
   ],
   "source": [
    "# printing the cols heading\n",
    "five_column = [th.text.strip().split('[')[0] for th in world_titles[:5]]\n",
    "\n",
    "print(five_column)"
   ]
  },
  {
   "cell_type": "code",
   "execution_count": 17,
   "id": "af3f19ad-0e16-4490-8f76-8bb714a37b6e",
   "metadata": {},
   "outputs": [
    {
     "data": {
      "text/html": [
       "<div>\n",
       "<style scoped>\n",
       "    .dataframe tbody tr th:only-of-type {\n",
       "        vertical-align: middle;\n",
       "    }\n",
       "\n",
       "    .dataframe tbody tr th {\n",
       "        vertical-align: top;\n",
       "    }\n",
       "\n",
       "    .dataframe thead th {\n",
       "        text-align: right;\n",
       "    }\n",
       "</style>\n",
       "<table border=\"1\" class=\"dataframe\">\n",
       "  <thead>\n",
       "    <tr style=\"text-align: right;\">\n",
       "      <th></th>\n",
       "      <th>Country or territory</th>\n",
       "      <th>Population(1 July 2022)</th>\n",
       "      <th>Population(1 July 2023)</th>\n",
       "      <th>Change(%)</th>\n",
       "      <th>UN continentalregion</th>\n",
       "    </tr>\n",
       "  </thead>\n",
       "  <tbody>\n",
       "  </tbody>\n",
       "</table>\n",
       "</div>"
      ],
      "text/plain": [
       "Empty DataFrame\n",
       "Columns: [Country or territory, Population(1 July 2022), Population(1 July 2023), Change(%), UN continentalregion]\n",
       "Index: []"
      ]
     },
     "execution_count": 17,
     "metadata": {},
     "output_type": "execute_result"
    }
   ],
   "source": [
    "df = pd.DataFrame(columns = five_column)\n",
    "df"
   ]
  },
  {
   "cell_type": "code",
   "execution_count": 18,
   "id": "eecf85ea-419b-4cac-b0b8-4011a4b18ec8",
   "metadata": {},
   "outputs": [],
   "source": [
    "# Getting all rows from the table\n",
    "col_name = table.find_all('tr')"
   ]
  },
  {
   "cell_type": "code",
   "execution_count": 19,
   "id": "95de6c83-df55-4485-a09e-e457699ec1c4",
   "metadata": {},
   "outputs": [],
   "source": [
    "# looping through the rows\n",
    "for row in col_name[1:]:\n",
    "    row_data = row.find_all('td')\n",
    "    individual_row_data = [data.text.strip() for data in row_data[:5]]\n",
    "\n",
    "    length = len(df)\n",
    "    df.loc[length] = individual_row_data"
   ]
  },
  {
   "cell_type": "code",
   "execution_count": 20,
   "id": "91b9a7d8-f86e-4ba5-986c-4a43c941c90f",
   "metadata": {
    "scrolled": true
   },
   "outputs": [
    {
     "data": {
      "text/html": [
       "<div>\n",
       "<style scoped>\n",
       "    .dataframe tbody tr th:only-of-type {\n",
       "        vertical-align: middle;\n",
       "    }\n",
       "\n",
       "    .dataframe tbody tr th {\n",
       "        vertical-align: top;\n",
       "    }\n",
       "\n",
       "    .dataframe thead th {\n",
       "        text-align: right;\n",
       "    }\n",
       "</style>\n",
       "<table border=\"1\" class=\"dataframe\">\n",
       "  <thead>\n",
       "    <tr style=\"text-align: right;\">\n",
       "      <th></th>\n",
       "      <th>Country or territory</th>\n",
       "      <th>Population(1 July 2022)</th>\n",
       "      <th>Population(1 July 2023)</th>\n",
       "      <th>Change(%)</th>\n",
       "      <th>UN continentalregion</th>\n",
       "    </tr>\n",
       "  </thead>\n",
       "  <tbody>\n",
       "    <tr>\n",
       "      <th>0</th>\n",
       "      <td>World</td>\n",
       "      <td>8,021,407,192</td>\n",
       "      <td>8,091,734,930</td>\n",
       "      <td>+0.88%</td>\n",
       "      <td>–</td>\n",
       "    </tr>\n",
       "    <tr>\n",
       "      <th>1</th>\n",
       "      <td>India</td>\n",
       "      <td>1,425,423,212</td>\n",
       "      <td>1,438,069,596</td>\n",
       "      <td>+0.89%</td>\n",
       "      <td>Asia</td>\n",
       "    </tr>\n",
       "    <tr>\n",
       "      <th>2</th>\n",
       "      <td>China[a]</td>\n",
       "      <td>1,425,179,569</td>\n",
       "      <td>1,422,584,933</td>\n",
       "      <td>−0.18%</td>\n",
       "      <td>Asia</td>\n",
       "    </tr>\n",
       "    <tr>\n",
       "      <th>3</th>\n",
       "      <td>United States</td>\n",
       "      <td>341,534,046</td>\n",
       "      <td>343,477,335</td>\n",
       "      <td>+0.57%</td>\n",
       "      <td>Americas</td>\n",
       "    </tr>\n",
       "    <tr>\n",
       "      <th>4</th>\n",
       "      <td>Indonesia</td>\n",
       "      <td>278,830,529</td>\n",
       "      <td>281,190,067</td>\n",
       "      <td>+0.85%</td>\n",
       "      <td>Asia</td>\n",
       "    </tr>\n",
       "  </tbody>\n",
       "</table>\n",
       "</div>"
      ],
      "text/plain": [
       "  Country or territory Population(1 July 2022) Population(1 July 2023)  \\\n",
       "0                World           8,021,407,192           8,091,734,930   \n",
       "1                India           1,425,423,212           1,438,069,596   \n",
       "2             China[a]           1,425,179,569           1,422,584,933   \n",
       "3        United States             341,534,046             343,477,335   \n",
       "4            Indonesia             278,830,529             281,190,067   \n",
       "\n",
       "  Change(%) UN continentalregion  \n",
       "0    +0.88%                    –  \n",
       "1    +0.89%                 Asia  \n",
       "2    −0.18%                 Asia  \n",
       "3    +0.57%             Americas  \n",
       "4    +0.85%                 Asia  "
      ]
     },
     "execution_count": 20,
     "metadata": {},
     "output_type": "execute_result"
    }
   ],
   "source": [
    "df.head()"
   ]
  },
  {
   "cell_type": "code",
   "execution_count": null,
   "id": "498caf93-d097-4729-8952-d4b30fb45a4a",
   "metadata": {},
   "outputs": [],
   "source": [
    "# saving the dataframe as csv\n",
    "df.to_csv(r'C:\\py\\Countries.csv')"
   ]
  }
 ],
 "metadata": {
  "kernelspec": {
   "display_name": "Python 3 (ipykernel)",
   "language": "python",
   "name": "python3"
  },
  "language_info": {
   "codemirror_mode": {
    "name": "ipython",
    "version": 3
   },
   "file_extension": ".py",
   "mimetype": "text/x-python",
   "name": "python",
   "nbconvert_exporter": "python",
   "pygments_lexer": "ipython3",
   "version": "3.13.3"
  }
 },
 "nbformat": 4,
 "nbformat_minor": 5
}
